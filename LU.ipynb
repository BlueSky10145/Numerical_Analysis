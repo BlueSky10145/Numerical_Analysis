{
 "cells": [
  {
   "cell_type": "code",
   "execution_count": 1,
   "id": "af5e2147",
   "metadata": {},
   "outputs": [
    {
     "name": "stdout",
     "output_type": "stream",
     "text": [
      "Lower triangular matrix L:\n",
      " [[ 1.  0.  0.]\n",
      " [-2.  1.  0.]\n",
      " [-2. -1.  1.]]\n",
      "Upper triangular matrix U:\n",
      " [[ 2 -1 -2]\n",
      " [ 0  4 -1]\n",
      " [ 0  0  3]]\n"
     ]
    }
   ],
   "source": [
    "import numpy as np\n",
    "\n",
    "def lu_decomposition(A):\n",
    "    n = len(A)\n",
    "    L = np.eye(n)\n",
    "    U = np.copy(A)\n",
    "    for k in range(n - 1):\n",
    "        for i in range(k + 1, n):\n",
    "            if U[k, k] == 0:\n",
    "                raise ValueError(\"Matrix is singular (division by zero).\")\n",
    "            L[i, k] = U[i, k] / U[k, k]\n",
    "            for j in range(k, n):\n",
    "                U[i, j] -= L[i, k] * U[k, j]\n",
    "    return L, U\n",
    "\n",
    "A = np.array([[2, -1, -2],\n",
    "              [-4, 6, 3],\n",
    "              [-4, -2, 8]])\n",
    "\n",
    "L, U = lu_decomposition(A)\n",
    "print(\"Lower triangular matrix L:\\n\", L)\n",
    "print(\"Upper triangular matrix U:\\n\", U)\n"
   ]
  },
  {
   "cell_type": "code",
   "execution_count": 2,
   "id": "517fc69f",
   "metadata": {},
   "outputs": [
    {
     "name": "stdout",
     "output_type": "stream",
     "text": [
      "Reconstructed A:\n",
      " [[ 2. -1. -2.]\n",
      " [-4.  6.  3.]\n",
      " [-4. -2.  8.]]\n"
     ]
    }
   ],
   "source": [
    "# Verify that A = L * U\n",
    "A_reconstructed = np.dot(L, U)\n",
    "print(\"Reconstructed A:\\n\", A_reconstructed)"
   ]
  },
  {
   "cell_type": "code",
   "execution_count": 3,
   "id": "77673253",
   "metadata": {},
   "outputs": [],
   "source": [
    "def forward_substitution(L, b):\n",
    "    \"\"\"\n",
    "    Solve L * y = b for y using forward substitution.\n",
    "    \"\"\"\n",
    "    n = len(L)\n",
    "    print(y)\n",
    "    for i in range(n):\n",
    "        y[i] = b[i] - np.dot(L[i, :i], y[:i])\n",
    "    return y"
   ]
  },
  {
   "cell_type": "code",
   "execution_count": 4,
   "id": "7c9e192a",
   "metadata": {},
   "outputs": [],
   "source": [
    "def backward_substitution(U, y):\n",
    "    \"\"\"\n",
    "    Solve U * x = y for x using backward substitution.\n",
    "    \"\"\"\n",
    "    n = len(U)\n",
    "    x = np.zeros(n)\n",
    "    for i in range(n - 1, -1, -1):\n",
    "        x[i] = (y[i] - np.dot(U[i, i + 1:], x[i + 1:])) / U[i, i]\n",
    "    return x"
   ]
  },
  {
   "cell_type": "code",
   "execution_count": 6,
   "id": "2dd9d248",
   "metadata": {},
   "outputs": [
    {
     "name": "stdout",
     "output_type": "stream",
     "text": [
      "Solution x:\n",
      " [4.375 1.75  3.   ]\n"
     ]
    }
   ],
   "source": [
    "import numpy as np\n",
    "\n",
    "def forward_substitution(L, b):\n",
    "    n = len(b)\n",
    "    y = np.zeros(n)\n",
    "    for i in range(n):\n",
    "        y[i] = b[i] - np.dot(L[i, :i], y[:i])\n",
    "    return y\n",
    "\n",
    "def backward_substitution(U, y):\n",
    "    n = len(y)\n",
    "    x = np.zeros(n)\n",
    "    for i in reversed(range(n)):\n",
    "        x[i] = (y[i] - np.dot(U[i, i+1:], x[i+1:])) / U[i, i]\n",
    "    return x\n",
    "\n",
    "b = np.array([1, 2, 3])\n",
    "\n",
    "y = forward_substitution(L, b)\n",
    "x = backward_substitution(U, y)\n",
    "\n",
    "print(\"Solution x:\\n\", x)\n"
   ]
  }
 ],
 "metadata": {
  "kernelspec": {
   "display_name": "Python 3",
   "language": "python",
   "name": "python3"
  },
  "language_info": {
   "codemirror_mode": {
    "name": "ipython",
    "version": 3
   },
   "file_extension": ".py",
   "mimetype": "text/x-python",
   "name": "python",
   "nbconvert_exporter": "python",
   "pygments_lexer": "ipython3",
   "version": "3.13.1"
  }
 },
 "nbformat": 4,
 "nbformat_minor": 5
}
